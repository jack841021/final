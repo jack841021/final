{
 "cells": [
  {
   "cell_type": "markdown",
   "metadata": {},
   "source": [
    "## Autoencoder"
   ]
  },
  {
   "cell_type": "code",
   "execution_count": 244,
   "metadata": {},
   "outputs": [
    {
     "name": "stdout",
     "output_type": "stream",
     "text": [
      "Variable containing:\n",
      " 0.1260\n",
      "[torch.FloatTensor of size 1]\n",
      "\n",
      "Variable containing:\n",
      "1.00000e-02 *\n",
      "  5.5477\n",
      "[torch.FloatTensor of size 1]\n",
      "\n",
      "Variable containing:\n",
      "1.00000e-02 *\n",
      "  8.9291\n",
      "[torch.FloatTensor of size 1]\n",
      "\n",
      "Variable containing:\n",
      "1.00000e-02 *\n",
      "  3.6306\n",
      "[torch.FloatTensor of size 1]\n",
      "\n"
     ]
    }
   ],
   "source": [
    "from torch import Tensor, randn\n",
    "from torch.autograd import Variable\n",
    "from torch.nn import LSTM\n",
    "\n",
    "x = Variable(Tensor([[[0, 0], [0, 0]]]), requires_grad = False)\n",
    "\n",
    "w0 = Variable(randn(1, 1, 2), requires_grad = True)\n",
    "w1 = Variable(randn(1, 1, 2), requires_grad = True)\n",
    "s0 = Variable(randn(1, 1, 2))\n",
    "s1 = Variable(randn(1, 1, 2))\n",
    "\n",
    "for i in range(4):\n",
    "    \n",
    "    h, _ = LSTM(2, 2)(x, (w0, s0))\n",
    "    y, _ = LSTM(2, 2)(h, (w1, s1))\n",
    "    \n",
    "    loss = ((y - x).mean()).abs()\n",
    "    loss.backward()\n",
    "    \n",
    "    learning_rate = 2 ** -4\n",
    "    w0.data -= learning_rate * w0.grad.data\n",
    "    w1.data -= learning_rate * w1.grad.data\n",
    "    \n",
    "    w0.grad.data.zero_()\n",
    "    w1.grad.data.zero_()\n",
    "    \n",
    "    print(loss)"
   ]
  },
  {
   "cell_type": "markdown",
   "metadata": {},
   "source": [
    "## VAE"
   ]
  },
  {
   "cell_type": "code",
   "execution_count": 4,
   "metadata": {},
   "outputs": [],
   "source": [
    "from torch import Tensor, randn\n",
    "from torch.autograd import Variable\n",
    "from torch.nn import LSTM, KLDivLoss\n",
    "from torch.optim import SGD"
   ]
  },
  {
   "cell_type": "code",
   "execution_count": 11,
   "metadata": {},
   "outputs": [],
   "source": [
    "# training data\n",
    "x  = Variable(Tensor([[[0 for j in range(16)] for i in range(16)]]), requires_grad = False)"
   ]
  },
  {
   "cell_type": "code",
   "execution_count": 6,
   "metadata": {},
   "outputs": [],
   "source": [
    "# initial weights\n",
    "w0 = Variable(randn(1, 1, 16), requires_grad = True)\n",
    "w1 = Variable(randn(1, 1, 16), requires_grad = True)\n",
    "w2 = Variable(randn(1, 1, 16), requires_grad = True)\n",
    "w3 = Variable(randn(1, 1, 16), requires_grad = True)\n",
    "# initial states\n",
    "s0 = Variable(randn(1, 1, 16))\n",
    "s1 = Variable(randn(1, 1, 16))\n",
    "s2 = Variable(randn(1, 1, 16))\n",
    "s3 = Variable(randn(1, 1, 16))"
   ]
  },
  {
   "cell_type": "code",
   "execution_count": 7,
   "metadata": {},
   "outputs": [],
   "source": [
    "def encoder(x, w0, w1, s0, s1):\n",
    "    h, _ = LSTM(16, 16)(x, (w0, s0))\n",
    "    a, _ = LSTM(16, 16)(h, (w1, s1))\n",
    "    b, _ = LSTM(16, 16)(h, (w1, s1))\n",
    "    return a, b # μ, log(σ^2)"
   ]
  },
  {
   "cell_type": "code",
   "execution_count": 13,
   "metadata": {},
   "outputs": [],
   "source": [
    "def sampling(mean, lvar):\n",
    "    norm = Variable(randn(16, 16))\n",
    "    return mean + (lvar / 2).exp() * norm # N(μ, σ^2) = μ + σ * N(0, 1), σ = exp(log(σ^2) / 2)"
   ]
  },
  {
   "cell_type": "code",
   "execution_count": 9,
   "metadata": {},
   "outputs": [],
   "source": [
    "def decoder(l, w2, w3, s2, s3):\n",
    "    h, _ = LSTM(16, 16)(l, (w2, s2))\n",
    "    y, _ = LSTM(16, 16)(h, (w3, s3))\n",
    "    return y"
   ]
  },
  {
   "cell_type": "code",
   "execution_count": 14,
   "metadata": {},
   "outputs": [
    {
     "name": "stdout",
     "output_type": "stream",
     "text": [
      "Variable containing:\n",
      "1.00000e-02 *\n",
      "  5.0966\n",
      "[torch.FloatTensor of size 1]\n",
      "\n",
      "Variable containing:\n",
      "1.00000e-02 *\n",
      "  4.0201\n",
      "[torch.FloatTensor of size 1]\n",
      "\n",
      "Variable containing:\n",
      "1.00000e-02 *\n",
      "  4.5667\n",
      "[torch.FloatTensor of size 1]\n",
      "\n",
      "Variable containing:\n",
      "1.00000e-02 *\n",
      "  4.6564\n",
      "[torch.FloatTensor of size 1]\n",
      "\n"
     ]
    }
   ],
   "source": [
    "for i in range(4):\n",
    "    \n",
    "    a, b = encoder  (x, w0, w1, s0, s1)\n",
    "    l    = sampling (a, b)\n",
    "    y    = decoder  (l, w2, w3, s2, s3)\n",
    "    \n",
    "    loss = KLDivLoss()(l, x) + (y - x).mean().abs()\n",
    "    loss.backward()\n",
    "    \n",
    "    SGD([w0, w1, w2, w3], lr = 2 ** -4)\n",
    "    \n",
    "    w0.grad.data.zero_()\n",
    "    w1.grad.data.zero_()\n",
    "    w2.grad.data.zero_()\n",
    "    w3.grad.data.zero_()\n",
    "    \n",
    "    print(loss)"
   ]
  }
 ],
 "metadata": {
  "kernelspec": {
   "display_name": "Python 3",
   "language": "python",
   "name": "python3"
  },
  "language_info": {
   "codemirror_mode": {
    "name": "ipython",
    "version": 3
   },
   "file_extension": ".py",
   "mimetype": "text/x-python",
   "name": "python",
   "nbconvert_exporter": "python",
   "pygments_lexer": "ipython3",
   "version": "3.5.2"
  }
 },
 "nbformat": 4,
 "nbformat_minor": 2
}
